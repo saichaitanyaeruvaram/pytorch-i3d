{
 "cells": [
  {
   "cell_type": "code",
   "execution_count": 5,
   "metadata": {},
   "outputs": [],
   "source": [
    "import json\n",
    "\n",
    "required_labels = [142,151]\n",
    "\n",
    "\n",
    "with open('charades.json', 'r') as f:\n",
    "        data = json.load(f)\n",
    "\n",
    "\n",
    "new_data = {}\n",
    "\n",
    "for vid in data.keys():\n",
    "     \n",
    "     header = {\n",
    "         'subset': data[vid]['subset'],\n",
    "         'duration': data[vid]['duration'],\n",
    "         'actions': []\n",
    "     }\n",
    "     \n",
    "     for ann in data[vid]['actions']:\n",
    "         action_id = ann[0]\n",
    "\n",
    "         try:\n",
    "             index = required_labels.index(action_id)\n",
    "             ann[0] = index\n",
    "             # matches\n",
    "         except:\n",
    "             # label not required\n",
    "             continue\n",
    "        \n",
    "         # add action to vid\n",
    "         if vid not in new_data:\n",
    "             new_data[vid] = { 'subset': data[vid]['subset'], 'duration': data[vid]['duration'], 'actions': []}        \n",
    "         \n",
    "         new_data[vid]['actions'].append(ann)\n",
    "\n",
    "\n",
    "with open('new_data.json', 'w') as outfile:\n",
    "    json.dump(new_data, outfile)"
   ]
  },
  {
   "cell_type": "code",
   "execution_count": null,
   "metadata": {},
   "outputs": [],
   "source": []
  }
 ],
 "metadata": {
  "kernelspec": {
   "display_name": "Python 3",
   "language": "python",
   "name": "python3"
  },
  "language_info": {
   "codemirror_mode": {
    "name": "ipython",
    "version": 3
   },
   "file_extension": ".py",
   "mimetype": "text/x-python",
   "name": "python",
   "nbconvert_exporter": "python",
   "pygments_lexer": "ipython3",
   "version": "3.5.3"
  }
 },
 "nbformat": 4,
 "nbformat_minor": 2
}
